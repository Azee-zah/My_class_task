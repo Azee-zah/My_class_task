{
 "cells": [
  {
   "cell_type": "markdown",
   "id": "b4c34350",
   "metadata": {
    "vscode": {
     "languageId": "plaintext"
    }
   },
   "source": [
    "12. Simulated USSD Menu Interaction\n",
    " - You are to design a mock USSD interface for a mobile service.\n",
    " - Requirements:\n",
    "   1. When the user runs the program, display a welcome screen with a Nigerian context greeting.\n",
    "   2. Ask the user to \"dial\" a USSD code (e.g., *123#) and store it in a variable.\n",
    "   3. Print a menu with at least 3 options (e.g., \"Check Balance\", \"Buy Airtime\", \"Buy Data\") using newline escape sequences `(\\n)` for formatting.\n",
    "   4. Ask the user to choose an option (1, 2, or 3) and store their choice in a variable.\n",
    "   5. Use f-strings and/or concatenation to display a confirmation message showing the selected option.\n",
    "   6. Ask for an amount (if applicable) and store it as a number using type casting.\n",
    "   7. Display a final message summarizing the transaction.\n",
    "\n",
    "\n"
   ]
  },
  {
   "cell_type": "markdown",
   "id": "9481b9ca",
   "metadata": {},
   "source": [
    "**Task4: Create a Unique Voters Registration System**\n",
    "\n",
    "- Ask for voter names and store in a set.\n",
    "\n",
    "- If a voter tries to register twice, display a warning.\n",
    "\n",
    "- After registration, display the total number of unique voters."
   ]
  },
  {
   "cell_type": "markdown",
   "id": "4e5b1001",
   "metadata": {},
   "source": [
    "**Task2**\n",
    "- Comment the code below appropriately, and using doctring, explain what the code is doing.\n",
    "-  Adapt the code to the case below.\n",
    "\n",
    "- Federal Government Scholarship Key Eligibility Requirements:\n",
    "  - Citizenship:\n",
    "    - Applicant must be a citizen of Nigeria. \n",
    "  - Enrollment:\n",
    "    - Must be a registered, full-time undergraduate student in a recognized Nigerian university. \n",
    "  - Other Scholarships:\n",
    "    - Applicants cannot be currently receiving any other scholarship from an entity in the Oil and Gas industry, whether national or international. \n",
    "  - Academic Qualification:\n",
    "    - For undergraduate courses, applicants usually need five distinctions (As and Bs) in relevant subjects in their WAEC/WASSCE (May/June) exams, including English and Mathematics."
   ]
  },
  {
   "cell_type": "markdown",
   "id": "8aa4409c",
   "metadata": {},
   "source": [
    "**Task6**\n",
    "\n",
    "- The Federal Government of Nigeria has set the minimum age for admission into federal tertiary institutions at 16 years old for the 2025/2026 academic session, according to the Minister of Education, Dr. Tunji Alausa. This policy, announced at the 2025 JAMB policy meeting, replaces the previous 18-year minimum age requirement. \n",
    "\n",
    "- For the 2025/2026 academic session, the University of Lagos (UNILAG) requires candidates to have a minimum UTME score of 200 to be eligible for the Post-UTME screening. The Post-UTME itself is an online screening exercise. UNILAG does not release specific departmental cut-off marks before the screening. The departmental cut-off marks are determined after the Post-UTME, based on merit and the performance of candidates in both UTME and the Post-UTME. \n",
    "\n",
    "Breakdown of the Admission Process:\n",
    "1. UTME:\n",
    "Candidates must score 200 or above in the UTME and choose UNILAG as their first choice. \n",
    "2. O'Level Requirements:\n",
    "Candidates must also have five (5) credit passes at one sitting in relevant O'Level subjects, including English Language and Mathematics. \n",
    "3. Post-UTME:\n",
    "Eligible candidates participate in the university's online Post-UTME screening. \n",
    "4. Departmental Cut-off Marks:\n",
    "After the Post-UTME, the university determines departmental cut-off marks based on merit and overall performance\n",
    "(This can range from 200 to 320). \n",
    "5. Final Admission:\n",
    "Candidates who meet the departmental cut-off marks are offered admission. \n",
    "\n",
    "- Write a program to account for all of the conditions above, Such that when a user imputes all their required details, they are told if they will be legible for admission or not."
   ]
  }
 ],
 "metadata": {
  "language_info": {
   "name": "python"
  }
 },
 "nbformat": 4,
 "nbformat_minor": 5
}
